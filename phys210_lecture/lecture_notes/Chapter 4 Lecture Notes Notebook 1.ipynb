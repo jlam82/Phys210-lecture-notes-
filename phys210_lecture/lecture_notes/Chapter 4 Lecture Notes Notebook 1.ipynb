{
 "cells": [
  {
   "cell_type": "markdown",
   "id": "28b96183",
   "metadata": {},
   "source": [
    "# <u>Matrices - Linear Algebra</u>\n",
    "* We will focus mostly on square matrices <br><br>\n",
    "$\\textbf{A}=\\begin{bmatrix}\n",
    "A_{00}&A_{01}&A_{02}\\\\\n",
    "A_{10}&A_{11}&A_{12}\\\\\n",
    "A_{20}&A_{21}&A_{22}\\end{bmatrix}$, where $A_{ij}\\equiv i^{th} \\; \\text{row, }j^{th} \\; \\text{column}$ <br><br>\n",
    "and vectors <br><br>\n",
    "$\\vec{x}=\\begin{pmatrix}\n",
    "x_0\\\\\n",
    "x_1\\\\\n",
    "x_2\\end{pmatrix}$, where the matrix is called a column vector. <br><br>\n",
    "* Matrix-vector multiplication:\n",
    "$$y_i=\\sum_{j=0}^{n-1}A_{ij}x_j\\Longrightarrow\\vec{y}=\\textbf{A}\\vec{x}$$ <br>\n",
    "$\\underline{\\mathcal{Ex:}}$\n",
    "$$\\begin{array}{}\n",
    "y_1=\\sum_{j=0}^{2}A_{ij}x_j&y_1=A_{10}x_0+A_{11}x_1+A_{12}x_2\\end{array}$$ <br>"
   ]
  },
  {
   "cell_type": "markdown",
   "id": "b2657a46",
   "metadata": {},
   "source": [
    "* Matrix multiplication:\n",
    "$$C_{ij}=\\sum_{k=0}^{n-1}A_{ik}B_{kj}\\Longrightarrow\\textbf{C}=\\textbf{AB}$$ <br>\n",
    "$\\underline{\\mathcal{Ex:}}$\n",
    "$$\\begin{array}{}\n",
    "\\textbf{A}=\\begin{bmatrix}\n",
    "    1 & -1\\\\\n",
    "    1 & 1\\end{bmatrix} &\n",
    "\\textbf{B}=\\begin{bmatrix}\n",
    "    2 & 1\\\\\n",
    "    1 & 3\\end{bmatrix} &\n",
    "\\textbf{C}=?\\end{array}$$ <br>\n",
    "$$\\begin{array}{}\n",
    "C_{00}=\\begin{bmatrix}\n",
    "    1 & -1\\end{bmatrix}\\begin{bmatrix}\n",
    "    2\\\\ 1\\end{bmatrix}\\Longrightarrow\n",
    "    A_{00}B_{00}+A_{01}B_{10} &\n",
    "C_{01}=\\begin{bmatrix}\n",
    "    1 & -1\\end{bmatrix}\\begin{bmatrix}\n",
    "    1\\\\ 3\\end{bmatrix}\\Longrightarrow\n",
    "    A_{00}B_{01}+A_{01}B_{11}\n",
    "\\end{array}$$ <br>\n",
    "$$\\begin{array}{}\n",
    "C_{10}=\\begin{bmatrix}\n",
    "    1 & 1\\end{bmatrix}\\begin{bmatrix}\n",
    "    2\\\\ 1\\end{bmatrix}\\Longrightarrow\n",
    "    A_{10}B_{00}+A_{11}B_{10} &\n",
    "C_{11}=\\begin{bmatrix}\n",
    "    1 & 1\\end{bmatrix}\\begin{bmatrix}\n",
    "    1\\\\ 3\\end{bmatrix}\\Longrightarrow\n",
    "    A_{10}B_{01}+A_{11}B_{11}\n",
    "\\end{array}$$ <br>\n",
    "$$\\textbf{C}=\\begin{bmatrix}\n",
    "    C_{00} & C_{01}\\\\\n",
    "    C_{10} & C_{11}\\end{bmatrix}\n",
    "\\Longrightarrow\\begin{bmatrix}\n",
    "    1 & -2\\\\\n",
    "    3 & 4\\end{bmatrix}\n",
    "\\text{, so }\\textbf{AB}=\\begin{bmatrix}\n",
    "    1 & -2\\\\\n",
    "    3 & 4\\end{bmatrix}$$"
   ]
  },
  {
   "cell_type": "markdown",
   "id": "55733daf",
   "metadata": {},
   "source": [
    "* Transpose: denoted by $\\textbf{A}^\\textbf{T}$, the transpose of a matrix is an operator which flips a matrix over its diagonal, i.e., $\\textbf{A}^\\textbf{T}_{ij}=\\textbf{A}_{ji}$ <br><br>\n",
    "$\\underline{\\mathcal{Ex:}}$\n",
    "$$\\textbf{A}^\\textbf{T}=\\begin{bmatrix}\n",
    "    A_{00} & A_{10} & A_{20}\\\\\n",
    "    A_{01} & A_{11} & A_{21}\\\\\n",
    "    A_{02} & A_{12} & A_{22}\\end{bmatrix}\n",
    "\\Longrightarrow\\textbf{A}=\\begin{bmatrix}\n",
    "    A_{00} & A_{01} & A_{02}\\\\\n",
    "    A_{10} & A_{11} & A_{12}\\\\\n",
    "    A_{20} & A_{21} & A_{22}\\end{bmatrix}$$"
   ]
  },
  {
   "cell_type": "markdown",
   "id": "5e526548",
   "metadata": {},
   "source": [
    "* Determinant: denoted by $\\text{det}(\\textbf{A})$ or $|\\textbf{A}|$, the determinant of a matrix returns a value that indicates the \"warp\" of an area that a square matrix spans from the normal basis vectors, i.e., $\\hat{i}$, $\\hat{j}$, and $\\hat{k}$ with values of $1$. <br><br>\n",
    "    - For $2\\times2$ matrices:\n",
    "    $$\\det(\\textbf{A})=\\begin{vmatrix}\n",
    "    a & b\\\\\n",
    "    c & d\\end{vmatrix}=ad-bc$$ <br>\n",
    "    - For $3\\times3$ matrices:\n",
    "    $$\\det(\\textbf{A})=\\begin{vmatrix}\n",
    "    a & b & c\\\\\n",
    "    d & e & f\\\\\n",
    "    g & h & i\\end{vmatrix}=\n",
    "    a\\begin{vmatrix}\n",
    "    e & f\\\\\n",
    "    h & i\\end{vmatrix}-\n",
    "    b\\begin{vmatrix}\n",
    "    d & f\\\\\n",
    "    g & i\\end{vmatrix}+\n",
    "    c\\begin{vmatrix}\n",
    "    d & e\\\\\n",
    "    g & h\\end{vmatrix}$$"
   ]
  },
  {
   "cell_type": "markdown",
   "id": "8c745602",
   "metadata": {},
   "source": [
    "* Triangular Matrices (Upper and Lower): special cases of square matrices where all elements above or below the \"principal diagonal\" (i.e., entries $A_{ii}$ for $i\\in\\mathbb{N}$) are zeroes. <br><br>\n",
    "$$\\begin{array}{}\n",
    "\\textbf{U}=\\begin{bmatrix}\n",
    "    A_{00} & A_{01} & A_{02}\\\\\n",
    "    0 & A_{11} & A_{12}\\\\\n",
    "    0 & 0 & A_{22}\\end{bmatrix} &\n",
    "\\textbf{L}=\\begin{bmatrix}\n",
    "    A_{00} & 0 & 0\\\\\n",
    "    A_{10} & A_{11} & 0\\\\\n",
    "    A_{20} & A_{21} & A_{22}\\end{bmatrix}\n",
    "\\end{array}$$ <br>\n",
    "    - Note: the determinant of any triangular matrix is the product of all\n",
    "    elements down its diagonal. <br><br>\n",
    "    $$|\\textbf{A}_{triangular}|=\\prod_0^{n-1}A_{ii}$$"
   ]
  },
  {
   "cell_type": "markdown",
   "id": "9cc1eb2b",
   "metadata": {},
   "source": [
    "* Inverses: denoted by $\\textbf{A}^{-1}$, inverse matrices are any matrix that on multiplying with the original matrix result in the identity matrix. <br><br>\n",
    "$$\\textbf{A}\\textbf{A}^{-1}\\text{ or } \\textbf{A}^{-1}\\textbf{A}=\\textbf{I}$$ <br>\n",
    "    - Identity Matrix: denoted by $\\textbf{I}$, the identity matrix is a given square matrix of any order which contains on its main diagonal elements each with a value of one, while the rest of the matrix elements are equal to zero. <br><br>\n",
    "    $$\\textbf{I}=\\begin{bmatrix}\n",
    "    1 & 0 & 0\\\\\n",
    "    0 & 1 & 0\\\\\n",
    "    0 & 0 & 1\\end{bmatrix}$$"
   ]
  },
  {
   "cell_type": "markdown",
   "id": "8d0f8daf",
   "metadata": {},
   "source": [
    "* Singular Matrix: A square matrix is described as singular if its determinant is zero, i.e., $\\det(\\textbf{A})$.\n",
    "     - If $\\textbf{A}$ is singular, then its inverse \n",
    "     $\\textbf{A}^{\\textbf{-1}}$ does not exist.\n",
    "     - The row and columns of a singular matrix $\\textbf{A}$ are not \n",
    "     linearly independent."
   ]
  },
  {
   "cell_type": "markdown",
   "id": "2fe92864",
   "metadata": {},
   "source": [
    "* Solving $n$ linear equations with $n$ unknowns: <br><br>\n",
    "    - $\\textbf{A}\\vec{x}=\\vec{b}$, where <br><br>\n",
    "        * $\\textbf{A}$ has $n\\times n$ coefficients.\n",
    "        * $\\vec{x}$ has $n$ unknowns, i.e., $\\vec{x}=\\begin{pmatrix}x_0\\\\x_1\\\\\\vdots\\\\x_n\\end{pmatrix}$ <br><br>\n",
    "        * $\\vec{b}$ has $n$ constants, i.e., $\\vec{b}=\\begin{pmatrix}b_0\\\\b_1\\\\\\vdots\\\\b_n\\end{pmatrix}$ <br><br>\n",
    "    - We need $\\det(\\textbf{A})\\neq0$ for a solution to exist. <br><br>\n",
    "    - Augmented matrix: a systems-of-equations matrix of numbers in which each row represents the constants from one equation and each column represents all the coefficients for a single variable. <br><br>\n",
    "        * We create an augmented coefficient matrix of $\\textbf{A}$ and $\\vec{b}$ to solve for $\\vec{x}$. <br><br>\n",
    "$$\\big(\\textbf{A}|\\vec{b}\\big)=\\left[\\begin{array}{cccc|c}\n",
    "    A_{00} & A_{01} & \\cdots & A_{0,n-1} & b_0\\\\\n",
    "    \\vdots & \\; & \\ddots & \\vdots & \\vdots\\\\\n",
    "    \\vdots & \\ddots & \\; & \\vdots & \\vdots\\\\\n",
    "    A_{n-1,0} & A_{n-1,1} & \\cdots & A_{n-1,n-1} & b_{n-1}\n",
    "\\end{array}\\right]$$ <br>\n",
    "    - In solving linear equations, we can <br><br>\n",
    "        * Scale: multiply a row by a constant. <br><br>\n",
    "        * Pivot: interchange two rows. <br><br>\n",
    "        * Eliminate: replace a row by the sum of that row with a multiple of any other row."
   ]
  },
  {
   "cell_type": "markdown",
   "id": "ae35165a",
   "metadata": {},
   "source": [
    "* Eigenvalue Problems: special matrix-vector multiplication case where it may be alternatively represented by an eigenvalue, $\\lambda$, multiplying an eigenvector, $\\vec{v}$.<br><br>\n",
    "    - $\\textbf{A}\\vec{v}=\\lambda\\vec{v}$, where $\\lambda$ is a scalar (i.e., a number). <br><br>\n",
    "    - $\\textbf{A}\\vec{v}-\\lambda\\vec{v}=\\vec{0}$ <br><br>\n",
    "    - $\\big(\\textbf{A}-\\lambda\\textbf{I}\\big)\\vec{v}=\\vec{0}$ <br><br>\n",
    "We have $n$ linear equations and $n$ unknowns in $\\vec{v}$, plus $1$ unknown in $\\lambda$; there are too many variable to be able to find a unique solution. <br><br>\n",
    "    - For a non-trivial solution (i.e., $\\vec{v}\\neq\\vec{0}$), we need $\\textbf{A}-\\lambda\\textbf{I}$ not to have an inverse, so $\\det(\\textbf{A}-\\lambda\\textbf{I})=0$"
   ]
  },
  {
   "cell_type": "markdown",
   "id": "f1878eb4",
   "metadata": {},
   "source": [
    "* <u>Define</u>: <br>\n",
    "    - Frobenius Norm:\n",
    "    $$\\lVert\\textbf{A}\\rVert_F=\\bigg[\\sum_i^{n-1}\\sum_j^{n-1}|A_{ij}|^2\\bigg]^{\\frac{1}{2}}$$ <br>\n",
    "    - Infinity Norm:\n",
    "    $$\\lVert\\textbf{A}\\rVert_{\\infty}=\\underset{0\\le i\\le n-1}{\\text{max}}\\sum_{j=0}^{n-1}|A_{ij}|$$\n",
    "    (maximum absolute row-sum norm) <br><br>\n",
    "    - Condition Number:\n",
    "    $$\\kappa(\\textbf{A})=\\lVert\\textbf{A}\\rVert\\lVert\\textbf{A}^{-1}\\rVert$$ <br>\n",
    "    The condition number determines the sensitivity to small pertubation (i.e., changes in the input affecting the solution)"
   ]
  },
  {
   "cell_type": "code",
   "execution_count": null,
   "id": "d97c3604",
   "metadata": {},
   "outputs": [],
   "source": []
  }
 ],
 "metadata": {
  "kernelspec": {
   "display_name": "Python 3 (ipykernel)",
   "language": "python",
   "name": "python3"
  },
  "language_info": {
   "codemirror_mode": {
    "name": "ipython",
    "version": 3
   },
   "file_extension": ".py",
   "mimetype": "text/x-python",
   "name": "python",
   "nbconvert_exporter": "python",
   "pygments_lexer": "ipython3",
   "version": "3.9.13"
  }
 },
 "nbformat": 4,
 "nbformat_minor": 5
}
