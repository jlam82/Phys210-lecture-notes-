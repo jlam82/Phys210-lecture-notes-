{
 "cells": [
  {
   "cell_type": "markdown",
   "id": "f24ca109",
   "metadata": {},
   "source": [
    "# <u>9/7/23: Chapter 3 (Derivatives)</u>\n"
   ]
  },
  {
   "cell_type": "markdown",
   "id": "05b3e0d5",
   "metadata": {},
   "source": [
    "* Applications of derivatives in physics:\n",
    "    - $\\vec{v}=\\frac{d\\vec{r}}{dt}$\n",
    "    - $\\vec{E}=-\\nabla\\phi-\\frac{\\partial\\vec{A}}{\\partial t}$"
   ]
  },
  {
   "cell_type": "code",
   "execution_count": null,
   "id": "0676a97c",
   "metadata": {},
   "outputs": [],
   "source": []
  }
 ],
 "metadata": {
  "kernelspec": {
   "display_name": "Python 3 (ipykernel)",
   "language": "python",
   "name": "python3"
  },
  "language_info": {
   "codemirror_mode": {
    "name": "ipython",
    "version": 3
   },
   "file_extension": ".py",
   "mimetype": "text/x-python",
   "name": "python",
   "nbconvert_exporter": "python",
   "pygments_lexer": "ipython3",
   "version": "3.9.13"
  }
 },
 "nbformat": 4,
 "nbformat_minor": 5
}
