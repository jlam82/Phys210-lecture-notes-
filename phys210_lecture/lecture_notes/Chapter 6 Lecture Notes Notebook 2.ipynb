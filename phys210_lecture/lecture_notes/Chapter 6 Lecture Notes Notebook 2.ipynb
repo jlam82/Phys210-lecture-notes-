{
 "cells": [
  {
   "cell_type": "markdown",
   "id": "ab3afdbe",
   "metadata": {},
   "source": [
    "# <u>Chapter 6: Approximation</u>"
   ]
  },
  {
   "cell_type": "markdown",
   "id": "3cd80602",
   "metadata": {},
   "source": [
    "### <u>Linear Least-squares Fitting:</u>\n",
    "We have an input table of data points $(x_j,y_j)$ for $j=0,1,\\ldots,N-1$, where we assume that there is some uncertainty $\\sigma_j$ in each measured $y_j$. <br>\n",
    "* So our function $p(x)$ will not be able to go through all the points $y_j$ exactly. <br><br>\n",
    "* We try to construct $p(x)$ that does a \"good\" job (there could be many that do a good job). <br><br>\n",
    "* Number of data points $N$, larger than the number of $c_k$ parameters $n$. <br>\n",
    "$\\newcommand{\\indent}{\\;\\;\\;\\;\\;}$\n",
    "$$N>n \\indent \\text{overdetermined system}$$\n",
    "$\\newcommand{\\parder}[2][]{ \\dfrac{\\partial #1}{\\partial #2} } % very cool LaTeX cmd$ \n",
    "$$\\underbrace{\n",
    "    \\begin{pmatrix}\n",
    "        \\phi_0(x_0) & \\phi_1(x_0) & \\ldots & \\phi_{n-1}(x_0) \\\\\n",
    "        \\phi_0(x_1) & \\phi_1(x_1) & \\ldots & \\phi_{n-1}(x_1) \\\\\n",
    "        \\vdots & \\vdots & \\ddots & \\vdots \\\\\n",
    "        \\phi_0(x_{N-1}) & \\phi_1(x_{N-1}) & \\ldots & \\phi_{n-1}(x_{N-1})\n",
    "    \\end{pmatrix}\n",
    "             }_{N\\;\\times\\;n} \\;\n",
    "\\underbrace{\n",
    "    \\begin{pmatrix}\n",
    "        c_0 \\\\\n",
    "        c_1 \\\\\n",
    "        \\vdots \\\\\n",
    "        c_{n-1}\n",
    "    \\end{pmatrix}\n",
    "           }_{n\\;\\times\\;1} \\cong\n",
    "\\underbrace{\n",
    "    \\begin{pmatrix}\n",
    "        y_0 \\\\\n",
    "        y_1 \\\\\n",
    "        \\vdots \\\\\n",
    "        y_{N-1}\n",
    "    \\end{pmatrix}\n",
    "           }_{N\\;\\times\\;1}$$\n",
    "\n",
    "$\\indent$ We can't solve $\\bf{\\Phi}$$\\vec{c}=\\vec{y}$ exactly. <br>\n",
    "* Instead, we may attempt to minimize the norm of the residual vector, $\\min\\;\\lVert\\vec{y}-\\bf{\\Phi}$$\\vec{c}\\rVert$. \n",
    "    <br>\n",
    "* We still assume $p(x)=\\displaystyle{ \\sum_{k=0}^{n-1} }c_k\\phi_k(x)$. <br>\n",
    "    - $p(x)$ is a <u>linear</u> combination of $c_k$ (not necessarily of $x$). <br><br>\n",
    "* To take into account of measurement uncertainty, we minimize what's called the chi-squared statistic: <br><br>\n",
    "        $$\\chi^2=\\sum_{j=0}^{N-1}\\bigg(\\frac{y_j-p(x_j)}{\\underbrace{\\sigma_j}_{\\text{weighted fit}}}\\bigg)^2$$\n",
    "    and note that $\\chi^2$ is implicitly dependent on $c_k$. <br><br>\n",
    "* We must find values of $c_k$ that minimizes the <u>distance</u> between the data points $y_j$ and the theoretical or model fit $p(x_j)$ weighted by error bars $\\sigma_j$. <br><br>\n",
    "    - Minimizing $\\chi^2$ via taking the partial with respect to $c_k$ and setting it equal to $0$: <br><br>\n",
    "        $$\\parder[\\chi^2]{c_k}=-2\\sum_{j=0}^{N-1}\\left(\\frac{y_j-p(x_j)}{\\sigma_j^2}\\right)\\parder[p(x_j)]{c_k}=0$$ <br>\n",
    "    We assume that each $y_j$ is Gaussian distributed about a \"true\" value with standard deviation $\\sigma_j$."
   ]
  },
  {
   "cell_type": "markdown",
   "id": "11c55a0c",
   "metadata": {},
   "source": [
    "### <u>Straight-line Fit:</u>\n",
    "* A straight line takes the form of a linear function, so\n",
    "    $$p(x)=c_0+c_1x$$ <br>\n",
    "for $n=2$. Our $\\chi^2$ statistics is then\n",
    "    $$\\chi^2=\\sum_{j=0}^{N-1}\\left(\\frac{y_j-c_0-c_1x_j}{\\sigma_j}\\right)^2$$ <br>\n",
    "    - The partials of our $\\chi^2$ statistics set to zero are then\n",
    "    $\\newcommand{\\parder}[2][]{ \\dfrac{\\partial #1}{\\partial #2} }$ \n",
    "    $\\renewcommand{\\displaysum}[2]{ \\displaystyle{\\sum_{#1}^{#2}} }$\n",
    "    $$\\begin{align}\n",
    "        \\parder[\\chi^2]{c_0} &= -2\\displaysum{j=0}{N-1}\\frac{y_j-c_0-c_1x_j}{\\sigma_j^2} = 0 \\\\\n",
    "        \\parder[\\chi^2]{c_1} &= -2\\displaysum{j=0}{N-1}\\bigg(\\frac{y_j-c_0-c_1x_j}{\\sigma_j^2}\\bigg)x_j = 0\n",
    "    \\end{align}$$ <br>\n",
    "    - Each numerator can be split into three terms; define six varaibles then as the following:\n",
    "    \n",
    "    $$\\begin{align}\n",
    "        S &\\equiv \\displaysum{j=0}{N-1}\\frac{1}{\\sigma_j^2} &\\;\n",
    "        S_x &\\equiv \\displaysum{j=0}{N-1}\\frac{x_j}{\\sigma_j^2} &\\;\n",
    "        S_y &\\equiv \\displaysum{j=0}{N-1}\\frac{y_j}{\\sigma_j^2} \\\\\n",
    "        \\; \\\\\n",
    "        S_{xx} &\\equiv \\displaysum{j=0}{N-1}\\frac{x_j^2}{\\sigma_j^2} &\\;\n",
    "        S_{xy} &\\equiv \\displaysum{j=0}{N-1}\\frac{x_jy_j}{\\sigma_j^2} &\\;\n",
    "        \\Delta &\\equiv SS_{xx} - S_x^{\\;2}\n",
    "    \\end{align}$$"
   ]
  },
  {
   "cell_type": "markdown",
   "id": "6e78c083",
   "metadata": {},
   "source": [
    "$\\newcommand{\\indent}{\\;\\;\\;\\;\\;}$ \n",
    "$\\newcommand{\\parder}[2][]{ \\dfrac{\\partial #1}{\\partial #2} }$\n",
    "$\\indent\\indent$ we may rewrite our summations per partial as the following: <br>\n",
    "\n",
    "$\\indent\\indent\\indent\\circ$ For $\\parder[\\chi^2]{c_0}$:\n",
    "    $$\\begin{gather}\n",
    "       \\displaystyle{ \\sum_{j=0}^{N-1} }\\frac{y_j-c_0-c_1x_j}{\\sigma_j^2}=0 \\\\\n",
    "       \\Downarrow \\\\\n",
    "       S_y-c_0S-c_1S_x=0\n",
    "    \\end{gather}$$\n",
    "$\\indent\\indent\\indent S_y=Sc_0+S_xc_1$ <br>\n",
    "\n",
    "$\\indent\\indent\\indent\\circ$ For $\\parder[\\chi^2]{c_1}$:\n",
    "    $$\\begin{gather}\n",
    "        \\displaystyle{ \\sum_{j=0}^{N-1} }\\bigg(\\frac{y_j-c_0-c_1x_j}{\\sigma_j^2}\\bigg)x_j=0 \\\\\n",
    "        \\Downarrow \\\\\n",
    "        S_{xy}-c_0S_{x}-c_1S_{xx}=0\n",
    "    \\end{gather}$$\n",
    "$\\indent\\indent\\indent S_{xy}=S_xc_0+S_{xx}c_1$"
   ]
  },
  {
   "cell_type": "markdown",
   "id": "c378eab0",
   "metadata": {},
   "source": [
    "* We now have a system of equations that may be further expressed as a $2\\times 2$ linear system: <br>\n",
    "$\\newcommand{\\indent}{\\;\\;\\;\\;\\;}$\n",
    "$$\\left\\{\\begin{align}\n",
    "    Sy &= Sc_0+S_xc_1 \\\\\n",
    "    S_{xy} &= S_xc_0+S_{xx}c_1\n",
    "\\end{align}\\right. \\Longrightarrow\n",
    "\\begin{bmatrix}\n",
    "    S & S_x \\\\\n",
    "    S_x & S_{xx}\n",
    "\\end{bmatrix}\n",
    "\\begin{pmatrix}\n",
    "    c_0 \\\\\n",
    "    c_1\n",
    "\\end{pmatrix} =\n",
    "\\begin{pmatrix}\n",
    "    S_y \\\\\n",
    "    S_{xy}\n",
    "\\end{pmatrix}$$\n",
    "\n",
    "$\\indent$ Solving this system yields us our following solutions:\n",
    "\n",
    "$$c_0=\\frac{S_{xx}S_y-S_xS_{xy}}{\\Delta} \\indent c_1=\\frac{S S_{xy}-S_xS_y}{\\Delta}$$\n",
    "\n",
    "$\\indent$ These are estimates of our \"true\" parameters, so they have uncertainties."
   ]
  },
  {
   "cell_type": "markdown",
   "id": "c4ebff45",
   "metadata": {},
   "source": [
    "* Recall the error propagation forumula from <b>Chapter 2</b>: <br>\n",
    "$\\newcommand{\\parder}[2][]{ \\dfrac{\\partial #1}{\\partial #2} }$ \n",
    "$$\\delta f^2 \\approx \\left( \\parder[f]{x} \\right)^2 \\delta x^2 +\n",
    "                     \\left( \\parder[f]{y} \\right)^2 \\delta y^2 + \n",
    "                     \\left( \\parder[f]{z} \\right)^2 \\delta z^2 +\n",
    "\\ldots \\text{ for many variables } f(x,y,z,...)$$ <br>\n",
    "    - Our uncertainty in $c_k$ is then\n",
    "        $$\\sigma_{c_k}^2=\\sum_{j=0}^{N-1}\\bigg( \\parder[c_k]{y_j} \\bigg)^2\\sigma_j^2$$ <br>\n",
    "    $$\\begin{align}\n",
    "        \\parder[c_0]{y_j} &= \\dfrac{S_{xx}-S_x x_j}{\\sigma_j^2\\Delta} &\\; \n",
    "        \\parder[c_1]{y_j} &= \\dfrac{S x_j-S_x}{\\sigma_j^2\\Delta} \\\\\n",
    "        \\sigma_{c_0}^2 &= \\dfrac{S_{xx}}{\\Delta} &\\;\n",
    "        \\sigma_{c_1}^2 &= \\dfrac{S}{\\Delta}\n",
    "    \\end{align}$$\n",
    "    \n",
    "    $\\sigma_{c_0}^2$ and $\\sigma_{c_1}^2$ are the variances in the estimates for our two parameters. The standard deviation\n",
    "    is the square root of the variances."
   ]
  },
  {
   "cell_type": "code",
   "execution_count": 52,
   "id": "5dc71b57",
   "metadata": {},
   "outputs": [
    {
     "data": {
      "text/plain": [
       "<matplotlib.legend.Legend at 0x2b152741700>"
      ]
     },
     "execution_count": 52,
     "metadata": {},
     "output_type": "execute_result"
    },
    {
     "data": {
      "image/png": "[encoded data removed]",
      "text/plain": [
       "<Figure size 640x480 with 1 Axes>"
      ]
     },
     "metadata": {},
     "output_type": "display_data"
    }
   ],
   "source": [
    "import numpy as np\n",
    "import matplotlib.pyplot as plt\n",
    "\n",
    "dataxs = np.linspace(0,1,6)\n",
    "datays = np.array([3.085, 3.123, 3.224, 3.360, 3.438, 3.569])\n",
    "datasigs=np.array([0.048, 0.053, 0.02, 0.005, 0.023, 0.07])\n",
    "\n",
    "def LineFitWt(x, y, sig):\n",
    "    N = x.size\n",
    "    sig2 = sig**2\n",
    "    norm = ( 1. / sig2).sum()\n",
    "    xhat = ( x / sig2).sum() / norm\n",
    "    yhat = ( y / sig2).sum() / norm\n",
    "    slope = ( ( x - xhat ) * y / sig2 ).sum() / ( ( x - xhat ) * x /sig2 ).sum() \n",
    "    yint = yhat - slope * xhat\n",
    "    sig2_slope = 1. / ( ( x - xhat ) * x / sig2 ).sum()\n",
    "    sig2_yint = sig2_slope * ( x * x / sig2).sum() / norm\n",
    "    res = (x * slope + yint ) - y\n",
    "    chi2dof = ( ( res / sig )**2 ).sum() / ( N - 2 )\n",
    "    return slope, yint, np.sqrt( sig2_slope ), np.sqrt( sig2_yint ), chi2dof\n",
    "\n",
    "slope, yint, d_slope, d_yint, chi2 = LineFitWt(dataxs, datays, datasigs)\n",
    "plt.plot(dataxs, dataxs*slope + yint, \"k--\", linewidth=1.0, label=\"Least-squares fitting\")\n",
    "plt.errorbar(dataxs, datays, yerr=datasigs, fmt=\"o\", mec=\"k\", capsize=3, label=\"Data\")\n",
    "plt.text(0.2,3.5,\"slope = {0:0.2f} $\\pm$ {1:0.2f}\".format(slope, d_slope), fontsize=12)\n",
    "plt.text(0.2,3.45,\"yint = {0:0.2f} $\\pm$ {1:0.2f}\".format(yint, d_yint), fontsize=12)\n",
    "plt.text(0.2,3.4,\"$\\chi^2_r$ = {0:0.2f}\".format(chi2), fontsize=12)\n",
    "plt.xlabel(r\"$\\mathscr{x}$\")\n",
    "plt.legend(loc=2)"
   ]
  }
 ],
 "metadata": {
  "kernelspec": {
   "display_name": "Python 3 (ipykernel)",
   "language": "python",
   "name": "python3"
  },
  "language_info": {
   "codemirror_mode": {
    "name": "ipython",
    "version": 3
   },
   "file_extension": ".py",
   "mimetype": "text/x-python",
   "name": "python",
   "nbconvert_exporter": "python",
   "pygments_lexer": "ipython3",
   "version": "3.11.5"
  }
 },
 "nbformat": 4,
 "nbformat_minor": 5
}
