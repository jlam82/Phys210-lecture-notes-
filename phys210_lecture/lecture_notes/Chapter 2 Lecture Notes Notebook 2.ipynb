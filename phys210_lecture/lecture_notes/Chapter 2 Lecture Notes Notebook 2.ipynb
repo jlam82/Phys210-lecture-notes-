{
 "cells": [
  {
   "cell_type": "markdown",
   "id": "4be28b07",
   "metadata": {},
   "source": [
    "# <u>Chapter 2: Errors <i>Cont'd</i></u>\n",
    "### <u>Numerical Computing \"Errors\":</u>\n",
    "* Due to approximation (we cut off Taylor series after finite number of terms) <br><br>\n",
    "* Due to roundoff <br><br>\n",
    "    - Computer doesn't have infinite memory to store, say, $\\sqrt{2}$ ) <br><br>\n",
    "    - Uses floating point representation\n",
    "\n",
    "Python floats are double precision (i.e., doubles) <br><br>\n",
    "$$x_{\\text{double}}=(-1)^s\\cdot1.f\\cdot2^{n-1023}$$\n",
    "where $$\\begin{array}\n",
    "ss\\equiv\\text{sign} & f\\equiv\\text{mantissa} & n\\equiv\\text{exponent}\\\\\n",
    "1 \\text{ bit} & 52\\text{ bits precision} & 11\\text{ bits range} \n",
    "\\end{array}$$ <br>\n",
    "The range of doubles are $\\pm2^{-1074}\\longleftrightarrow\\pm2^{1024}$, or roughly $\\pm4.9\\cdot10^{-324}\\longleftrightarrow\\pm1.8\\cdot10^{308}$ <br><br>\n",
    "* We get underflow or overflow for trying to store a smaller or larger number. Specifically, we cannot store anymore than 324 significant figures. <br>\n",
    "* Precision given by the mantissa, i.e., $\\frac{1}{2^{52}}\\approx2.2\\cdot10^{-16}$ (about 16 decimal digits of precision)."
   ]
  },
  {
   "cell_type": "markdown",
   "id": "cf8a0065",
   "metadata": {},
   "source": [
    "<b>Machine Precision</b> <br><br>\n",
    "We start with a small number and keep halving it and adding 1 to it"
   ]
  },
  {
   "cell_type": "code",
   "execution_count": 1,
   "id": "0f3a327b",
   "metadata": {},
   "outputs": [
    {
     "name": "stdout",
     "output_type": "stream",
     "text": [
      "0, 4.440892098500626e-16, 1.0000000000000004\n",
      "1, 2.220446049250313e-16, 1.0000000000000002\n",
      "2, 1.110223024625157e-16, 1.0\n"
     ]
    }
   ],
   "source": [
    "small_num = 1/2**50\n",
    "for i in range(3):\n",
    "    small_num /= 2 #reinitialize small_num by half its value\n",
    "    print(f\"{i}, {small_num:18.15e}, {1+small_num}\")"
   ]
  },
  {
   "cell_type": "markdown",
   "id": "26683dd0",
   "metadata": {},
   "source": [
    "There are also numbers smaller than the machine precision (i.e., $2.2\\cdot10^{-16}$) that when added to 1 will lead to a result larger than 1."
   ]
  },
  {
   "cell_type": "code",
   "execution_count": 2,
   "id": "c60b395b",
   "metadata": {},
   "outputs": [
    {
     "data": {
      "text/plain": [
       "1.0000000000000002"
      ]
     },
     "execution_count": 2,
     "metadata": {},
     "output_type": "execute_result"
    }
   ],
   "source": [
    "1 + 2.30e-16"
   ]
  },
  {
   "cell_type": "code",
   "execution_count": 3,
   "id": "01b53aa7",
   "metadata": {},
   "outputs": [
    {
     "data": {
      "text/plain": [
       "1.0000000000000002"
      ]
     },
     "execution_count": 3,
     "metadata": {},
     "output_type": "execute_result"
    }
   ],
   "source": [
    "1 + 1.60e-16"
   ]
  },
  {
   "cell_type": "code",
   "execution_count": 4,
   "id": "dca88425",
   "metadata": {},
   "outputs": [
    {
     "data": {
      "text/plain": [
       "1.0000000000000002"
      ]
     },
     "execution_count": 4,
     "metadata": {},
     "output_type": "execute_result"
    }
   ],
   "source": [
    "1 + 1.12e-16"
   ]
  },
  {
   "cell_type": "code",
   "execution_count": 5,
   "id": "e4c7f912",
   "metadata": {},
   "outputs": [
    {
     "data": {
      "text/plain": [
       "1.0"
      ]
     },
     "execution_count": 5,
     "metadata": {},
     "output_type": "execute_result"
    }
   ],
   "source": [
    "1 + 1.10e-16"
   ]
  },
  {
   "cell_type": "markdown",
   "id": "393d7de0",
   "metadata": {},
   "source": [
    "<b>Comparing Floats</b> <br><br>\n",
    "Be careful when comparing floats:"
   ]
  },
  {
   "cell_type": "code",
   "execution_count": 6,
   "id": "5896d2bb",
   "metadata": {},
   "outputs": [
    {
     "data": {
      "text/plain": [
       "False"
      ]
     },
     "execution_count": 6,
     "metadata": {},
     "output_type": "execute_result"
    }
   ],
   "source": [
    "x = 0.1 + 0.2\n",
    "y = 0.3\n",
    "x == y"
   ]
  },
  {
   "cell_type": "code",
   "execution_count": 7,
   "id": "f0d465ea",
   "metadata": {},
   "outputs": [
    {
     "data": {
      "text/plain": [
       "0.30000000000000004"
      ]
     },
     "execution_count": 7,
     "metadata": {},
     "output_type": "execute_result"
    }
   ],
   "source": [
    "x"
   ]
  },
  {
   "cell_type": "code",
   "execution_count": 8,
   "id": "59ee2e8b",
   "metadata": {},
   "outputs": [
    {
     "data": {
      "text/plain": [
       "0.3"
      ]
     },
     "execution_count": 8,
     "metadata": {},
     "output_type": "execute_result"
    }
   ],
   "source": [
    "y"
   ]
  },
  {
   "cell_type": "markdown",
   "id": "26870bc9",
   "metadata": {},
   "source": [
    "And so, a relative comparison may be the best at times, i.e., is x relatively close in value to y?"
   ]
  },
  {
   "cell_type": "markdown",
   "id": "8a297c8e",
   "metadata": {},
   "source": [
    "<b>Computing $e^x$</b>\n",
    "* Taylor expansion: $e^x=1+x+\\frac{x^2}{2!}+\\frac{x^3}{3!}+\\;...$\n",
    "* Approximate the Taylor expansion as $e^x\\approx\\sum_{n=0}^{n_{max}}\\frac{x^n}{n!}$.\n",
    "* Problem: as n increases (i.e., adding more terms), $x^n$ and $n!$ individually becomes larger and larger numbers even if the ratio $\\frac{x^n}{n!}$ might be small\n",
    "    - Note that $\\frac{x^n}{n!}=\\frac{x}{n}\\cdot\\frac{x^{n-1}}{(n-1)!}$\n",
    "    - What is the most amount of terms that we're allowed to take for $n_{max}$ before we start \n",
    "    receiving precision errors? We may find out by continuously adding terms until the sum \n",
    "    doesn't change right before round-off error emerges."
   ]
  },
  {
   "cell_type": "code",
   "execution_count": 16,
   "id": "8cfdc0c5",
   "metadata": {},
   "outputs": [],
   "source": [
    "from math import exp\n",
    "\n",
    "def comp_exp(x, doPrint=True):\n",
    "    n = 0\n",
    "    old_sum = 0.\n",
    "    new_sum = 1.\n",
    "    term = 1.\n",
    "    while new_sum != old_sum:\n",
    "        n += 1\n",
    "        old_sum = new_sum\n",
    "        term = term * (x/n)\n",
    "        new_sum += term\n",
    "        if doPrint == True:\n",
    "            print(f\"n={n:2}; sum={new_sum: 18.16e}; term={term: 18.16e}\")\n",
    "    return new_sum"
   ]
  },
  {
   "cell_type": "code",
   "execution_count": 17,
   "id": "cfe7346e",
   "metadata": {},
   "outputs": [
    {
     "name": "stdout",
     "output_type": "stream",
     "text": [
      "x, library exp(x): 0.1 1.1051709180756477\n",
      "n= 1; sum= 1.1000000000000001e+00; term= 1.0000000000000001e-01\n",
      "n= 2; sum= 1.1050000000000000e+00; term= 5.0000000000000010e-03\n",
      "n= 3; sum= 1.1051666666666666e+00; term= 1.6666666666666669e-04\n",
      "n= 4; sum= 1.1051708333333332e+00; term= 4.1666666666666677e-06\n",
      "n= 5; sum= 1.1051709166666666e+00; term= 8.3333333333333352e-08\n",
      "n= 6; sum= 1.1051709180555553e+00; term= 1.3888888888888892e-09\n",
      "n= 7; sum= 1.1051709180753966e+00; term= 1.9841269841269846e-11\n",
      "n= 8; sum= 1.1051709180756446e+00; term= 2.4801587301587309e-13\n",
      "n= 9; sum= 1.1051709180756473e+00; term= 2.7557319223985899e-15\n",
      "n=10; sum= 1.1051709180756473e+00; term= 2.7557319223985901e-17\n",
      "ratio = 9.9999999999999956e-01\n"
     ]
    }
   ],
   "source": [
    "x = 0.1\n",
    "print(\"x, library exp(x):\", x, exp(x))\n",
    "val = comp_exp(x)\n",
    "print(f\"ratio = {val/exp(x):18.16e}\")"
   ]
  },
  {
   "cell_type": "code",
   "execution_count": 18,
   "id": "fca758ea",
   "metadata": {},
   "outputs": [
    {
     "name": "stdout",
     "output_type": "stream",
     "text": [
      "x, library exp(x): 20 485165195.4097903\n",
      "n= 1; sum= 2.1000000000000000e+01; term= 2.0000000000000000e+01\n",
      "n= 2; sum= 2.2100000000000000e+02; term= 2.0000000000000000e+02\n",
      "n= 3; sum= 1.5543333333333335e+03; term= 1.3333333333333335e+03\n",
      "n= 4; sum= 8.2210000000000018e+03; term= 6.6666666666666679e+03\n",
      "n= 5; sum= 3.4887666666666672e+04; term= 2.6666666666666672e+04\n",
      "n= 6; sum= 1.2377655555555558e+05; term= 8.8888888888888905e+04\n",
      "n= 7; sum= 3.7774480952380958e+05; term= 2.5396825396825402e+05\n",
      "n= 8; sum= 1.0126654444444446e+06; term= 6.3492063492063503e+05\n",
      "n= 9; sum= 2.4236001887125224e+06; term= 1.4109347442680779e+06\n",
      "n=10; sum= 5.2454696772486782e+06; term= 2.8218694885361558e+06\n",
      "n=11; sum= 1.0376141474587142e+07; term= 5.1306717973384652e+06\n",
      "n=12; sum= 1.8927261136817917e+07; term= 8.5511196622307766e+06\n",
      "n=13; sum= 3.2082829847942188e+07; term= 1.3155568711124273e+07\n",
      "n=14; sum= 5.0876499435262576e+07; term= 1.8793669587320391e+07\n",
      "n=15; sum= 7.5934725551689759e+07; term= 2.5058226116427187e+07\n",
      "n=16; sum= 1.0725750819722374e+08; term= 3.1322782645533983e+07\n",
      "n=17; sum= 1.4410784072138137e+08; term= 3.6850332524157628e+07\n",
      "n=18; sum= 1.8505265463711208e+08; term= 4.0944813915730700e+07\n",
      "n=19; sum= 2.2815245875893387e+08; term= 4.3099804121821783e+07\n",
      "n=20; sum= 2.7125226288075566e+08; term= 4.3099804121821783e+07\n",
      "n=21; sum= 3.1229969537772882e+08; term= 4.1047432496973127e+07\n",
      "n=22; sum= 3.4961554310224986e+08; term= 3.7315847724521026e+07\n",
      "n=23; sum= 3.8206410634096378e+08; term= 3.2448563238713935e+07\n",
      "n=24; sum= 4.0910457570655870e+08; term= 2.7040469365594946e+07\n",
      "n=25; sum= 4.3073695119903469e+08; term= 2.1632375492475957e+07\n",
      "n=26; sum= 4.4737724003940082e+08; term= 1.6640288840366121e+07\n",
      "n=27; sum= 4.5970337992115349e+08; term= 1.2326139881752681e+07\n",
      "n=28; sum= 4.6850776555097681e+08; term= 8.8043856298233438e+06\n",
      "n=29; sum= 4.7457975564051014e+08; term= 6.0719900895333411e+06\n",
      "n=30; sum= 4.7862774903353238e+08; term= 4.0479933930222271e+06\n",
      "n=31; sum= 4.8123935767419189e+08; term= 2.6116086406595013e+06\n",
      "n=32; sum= 4.8287161307460409e+08; term= 1.6322554004121884e+06\n",
      "n=33; sum= 4.8386085877182359e+08; term= 9.8924569721950812e+05\n",
      "n=34; sum= 4.8444276800548214e+08; term= 5.8190923365853424e+05\n",
      "n=35; sum= 4.8477528756757271e+08; term= 3.3251956209059100e+05\n",
      "n=36; sum= 4.8496002065762305e+08; term= 1.8473309005032835e+05\n",
      "n=37; sum= 4.8505987638197458e+08; term= 9.9855724351528843e+04\n",
      "n=38; sum= 4.8511243202637011e+08; term= 5.2555644395541494e+04\n",
      "n=39; sum= 4.8513938363888067e+08; term= 2.6951612510534098e+04\n",
      "n=40; sum= 4.8515285944513595e+08; term= 1.3475806255267049e+04\n",
      "n=41; sum= 4.8515943300916290e+08; term= 6.5735640269595360e+03\n",
      "n=42; sum= 4.8516256327774715e+08; term= 3.1302685842664455e+03\n",
      "n=43; sum= 4.8516401921662354e+08; term= 1.4559388764029979e+03\n",
      "n=44; sum= 4.8516468100702190e+08; term= 6.6179039836499908e+02\n",
      "n=45; sum= 4.8516497513608783e+08; term= 2.9412906593999958e+02\n",
      "n=46; sum= 4.8516510301829040e+08; term= 1.2788220258260851e+02\n",
      "n=47; sum= 4.8516515743624896e+08; term= 5.4417958545790860e+01\n",
      "n=48; sum= 4.8516518011039835e+08; term= 2.2674149394079524e+01\n",
      "n=49; sum= 4.8516518936515319e+08; term= 9.2547548547263361e+00\n",
      "n=50; sum= 4.8516519306705511e+08; term= 3.7019019418905348e+00\n",
      "n=51; sum= 4.8516519451878136e+08; term= 1.4517262517217784e+00\n",
      "n=52; sum= 4.8516519507713759e+08; term= 5.5835625066222250e-01\n",
      "n=53; sum= 4.8516519528783804e+08; term= 2.1070047194800851e-01\n",
      "n=54; sum= 4.8516519536587524e+08; term= 7.8037211832595738e-02\n",
      "n=55; sum= 4.8516519539425242e+08; term= 2.8377167939125723e-02\n",
      "n=56; sum= 4.8516519540438712e+08; term= 1.0134702835402045e-02\n",
      "n=57; sum= 4.8516519540794313e+08; term= 3.5560360825972084e-03\n",
      "n=58; sum= 4.8516519540916938e+08; term= 1.2262193388266236e-03\n",
      "n=59; sum= 4.8516519540958506e+08; term= 4.1566757248360120e-04\n",
      "n=60; sum= 4.8516519540972364e+08; term= 1.3855585749453372e-04\n",
      "n=61; sum= 4.8516519540976906e+08; term= 4.5428149998207770e-05\n",
      "n=62; sum= 4.8516519540978372e+08; term= 1.4654241934905732e-05\n",
      "n=63; sum= 4.8516519540978837e+08; term= 4.6521402967954702e-06\n",
      "n=64; sum= 4.8516519540978980e+08; term= 1.4537938427485845e-06\n",
      "n=65; sum= 4.8516519540979028e+08; term= 4.4732118238417985e-07\n",
      "n=66; sum= 4.8516519540979040e+08; term= 1.3555187344975148e-07\n",
      "n=67; sum= 4.8516519540979046e+08; term= 4.0463245805895957e-08\n",
      "n=68; sum= 4.8516519540979046e+08; term= 1.1900954648792928e-08\n",
      "ratio = 1.0000000000000004e+00\n"
     ]
    }
   ],
   "source": [
    "x = 20\n",
    "print(\"x, library exp(x):\", x, exp(x))\n",
    "val = comp_exp(x)\n",
    "print(f\"ratio = {val/exp(x):18.16e}\")"
   ]
  },
  {
   "cell_type": "markdown",
   "id": "a2b6673b",
   "metadata": {},
   "source": [
    "Note that the term grows when $x>n$, so after $n=20$ the term begins to decrease. <br><br>\n",
    "What if we try a negative value for $x$ like $x=-20$?"
   ]
  },
  {
   "cell_type": "code",
   "execution_count": 19,
   "id": "61c4145a",
   "metadata": {},
   "outputs": [
    {
     "name": "stdout",
     "output_type": "stream",
     "text": [
      "x, library exp(x): -20 2.061153622438558e-09\n",
      "n= 1; sum=-1.9000000000000000e+01; term=-2.0000000000000000e+01\n",
      "n= 2; sum= 1.8100000000000000e+02; term= 2.0000000000000000e+02\n",
      "n= 3; sum=-1.1523333333333335e+03; term=-1.3333333333333335e+03\n",
      "n= 4; sum= 5.5143333333333339e+03; term= 6.6666666666666679e+03\n",
      "n= 5; sum=-2.1152333333333336e+04; term=-2.6666666666666672e+04\n",
      "n= 6; sum= 6.7736555555555562e+04; term= 8.8888888888888905e+04\n",
      "n= 7; sum=-1.8623169841269846e+05; term=-2.5396825396825402e+05\n",
      "n= 8; sum= 4.4868893650793657e+05; term= 6.3492063492063503e+05\n",
      "n= 9; sum=-9.6224580776014132e+05; term=-1.4109347442680779e+06\n",
      "n=10; sum= 1.8596236807760145e+06; term= 2.8218694885361558e+06\n",
      "n=11; sum=-3.2710481165624508e+06; term=-5.1306717973384652e+06\n",
      "n=12; sum= 5.2800715456683263e+06; term= 8.5511196622307766e+06\n",
      "n=13; sum=-7.8754971654559467e+06; term=-1.3155568711124273e+07\n",
      "n=14; sum= 1.0918172421864444e+07; term= 1.8793669587320391e+07\n",
      "n=15; sum=-1.4140053694562742e+07; term=-2.5058226116427187e+07\n",
      "n=16; sum= 1.7182728950971238e+07; term= 3.1322782645533983e+07\n",
      "n=17; sum=-1.9667603573186390e+07; term=-3.6850332524157628e+07\n",
      "n=18; sum= 2.1277210342544310e+07; term= 4.0944813915730700e+07\n",
      "n=19; sum=-2.1822593779277474e+07; term=-4.3099804121821783e+07\n",
      "n=20; sum= 2.1277210342544310e+07; term= 4.3099804121821783e+07\n",
      "n=21; sum=-1.9770222154428817e+07; term=-4.1047432496973127e+07\n",
      "n=22; sum= 1.7545625570092209e+07; term= 3.7315847724521026e+07\n",
      "n=23; sum=-1.4902937668621726e+07; term=-3.2448563238713935e+07\n",
      "n=24; sum= 1.2137531696973220e+07; term= 2.7040469365594946e+07\n",
      "n=25; sum=-9.4948437955027372e+06; term=-2.1632375492475957e+07\n",
      "n=26; sum= 7.1454450448633842e+06; term= 1.6640288840366121e+07\n",
      "n=27; sum=-5.1806948368892968e+06; term=-1.2326139881752681e+07\n",
      "n=28; sum= 3.6236907929340471e+06; term= 8.8043856298233438e+06\n",
      "n=29; sum=-2.4482992965992941e+06; term=-6.0719900895333411e+06\n",
      "n=30; sum= 1.5996940964229330e+06; term= 4.0479933930222271e+06\n",
      "n=31; sum=-1.0119145442365683e+06; term=-2.6116086406595013e+06\n",
      "n=32; sum= 6.2034085617562011e+05; term= 1.6322554004121884e+06\n",
      "n=33; sum=-3.6890484104388801e+05; term=-9.8924569721950812e+05\n",
      "n=34; sum= 2.1300439261464623e+05; term= 5.8190923365853424e+05\n",
      "n=35; sum=-1.1951516947594477e+05; term=-3.3251956209059100e+05\n",
      "n=36; sum= 6.5217920574383577e+04; term= 1.8473309005032835e+05\n",
      "n=37; sum=-3.4637803777145265e+04; term=-9.9855724351528843e+04\n",
      "n=38; sum= 1.7917840618396229e+04; term= 5.2555644395541494e+04\n",
      "n=39; sum=-9.0337718921378691e+03; term=-2.6951612510534098e+04\n",
      "n=40; sum= 4.4420343631291798e+03; term= 1.3475806255267049e+04\n",
      "n=41; sum=-2.1315296638303562e+03; term=-6.5735640269595360e+03\n",
      "n=42; sum= 9.9873892043608930e+02; term= 3.1302685842664455e+03\n",
      "n=43; sum=-4.5719995596690865e+02; term=-1.4559388764029979e+03\n",
      "n=44; sum= 2.0459044239809043e+02; term= 6.6179039836499908e+02\n",
      "n=45; sum=-8.9538623541909146e+01; term=-2.9412906593999958e+02\n",
      "n=46; sum= 3.8343579040699368e+01; term= 1.2788220258260851e+02\n",
      "n=47; sum=-1.6074379505091493e+01; term=-5.4417958545790860e+01\n",
      "n=48; sum= 6.5997698889880319e+00; term= 2.2674149394079524e+01\n",
      "n=49; sum=-2.6549849657383042e+00; term=-9.2547548547263361e+00\n",
      "n=50; sum= 1.0469169761522306e+00; term= 3.7019019418905348e+00\n",
      "n=51; sum=-4.0480927556954782e-01; term=-1.4517262517217784e+00\n",
      "n=52; sum= 1.5354697509267468e-01; term= 5.5835625066222250e-01\n",
      "n=53; sum=-5.7153496855333830e-02; term=-2.1070047194800851e-01\n",
      "n=54; sum= 2.0883714977261908e-02; term= 7.8037211832595738e-02\n",
      "n=55; sum=-7.4934529618638154e-03; term=-2.8377167939125723e-02\n",
      "n=56; sum= 2.6412498735382296e-03; term= 1.0134702835402045e-02\n",
      "n=57; sum=-9.1478620905897879e-04; term=-3.5560360825972084e-03\n",
      "n=58; sum= 3.1143312976764483e-04; term= 1.2262193388266236e-03\n",
      "n=59; sum=-1.0423444271595637e-04; term=-4.1566757248360120e-04\n",
      "n=60; sum= 3.4321414778577342e-05; term= 1.3855585749453372e-04\n",
      "n=61; sum=-1.1106735219630428e-05; term=-4.5428149998207770e-05\n",
      "n=62; sum= 3.5475067152753046e-06; term= 1.4654241934905732e-05\n",
      "n=63; sum=-1.1046335815201656e-06; term=-4.6521402967954702e-06\n",
      "n=64; sum= 3.4916026122841888e-07; term= 1.4537938427485845e-06\n",
      "n=65; sum=-9.8160921155760974e-08; term=-4.4732118238417985e-07\n",
      "n=66; sum= 3.7390952293990503e-08; term= 1.3555187344975148e-07\n",
      "n=67; sum=-3.0722935119054536e-09; term=-4.0463245805895957e-08\n",
      "n=68; sum= 8.8286611368874746e-09; term= 1.1900954648792928e-08\n",
      "n=69; sum= 5.3791090647735820e-09; term=-3.4495520721138922e-09\n",
      "n=70; sum= 6.3646953710918366e-09; term= 9.8558630631825488e-10\n",
      "n=71; sum= 6.0870654256500746e-09; term=-2.7762994544176197e-10\n",
      "n=72; sum= 6.1641848549394528e-09; term= 7.7119429289378333e-11\n",
      "n=73; sum= 6.1430562441752395e-09; term=-2.1128610764213241e-11\n",
      "n=74; sum= 6.1487666795169188e-09; term= 5.7104353416792543e-12\n",
      "n=75; sum= 6.1472438967591373e-09; term=-1.5227827577811344e-12\n",
      "n=76; sum= 6.1476446290638162e-09; term= 4.0073230467924588e-13\n",
      "n=77; sum= 6.1475405427509124e-09; term=-1.0408631290370022e-13\n",
      "n=78; sum= 6.1475672315490929e-09; term= 2.6688798180435949e-14\n",
      "n=79; sum= 6.1475604748913258e-09; term=-6.7566577671989751e-15\n",
      "n=80; sum= 6.1475621640557674e-09; term= 1.6891644417997438e-15\n",
      "n=81; sum= 6.1475617469781272e-09; term=-4.1707763995055400e-16\n",
      "n=82; sum= 6.1475618487043812e-09; term= 1.0172625364647659e-16\n",
      "n=83; sum= 6.1475618241920310e-09; term=-2.4512350276259418e-17\n",
      "n=84; sum= 6.1475618300283048e-09; term= 5.8362738752998609e-18\n",
      "n=85; sum= 6.1475618286550642e-09; term=-1.3732409118352614e-18\n",
      "n=86; sum= 6.1475618289744229e-09; term= 3.1935835158959566e-19\n",
      "n=87; sum= 6.1475618289010073e-09; term=-7.3415713009102449e-20\n",
      "n=88; sum= 6.1475618289176924e-09; term= 1.6685389320250557e-20\n",
      "n=89; sum= 6.1475618289139428e-09; term=-3.7495256899439451e-21\n",
      "n=90; sum= 6.1475618289147757e-09; term= 8.3322793109865441e-22\n",
      "n=91; sum= 6.1475618289145929e-09; term=-1.8312701782388008e-22\n",
      "n=92; sum= 6.1475618289146326e-09; term= 3.9810221266060887e-23\n",
      "n=93; sum= 6.1475618289146244e-09; term=-8.5613379066797605e-24\n",
      "n=94; sum= 6.1475618289146260e-09; term= 1.8215612567403748e-24\n",
      "n=95; sum= 6.1475618289146260e-09; term=-3.8348658036639467e-25\n",
      "ratio = 2.9825830360191321e+00\n"
     ]
    }
   ],
   "source": [
    "x = -20\n",
    "print(\"x, library exp(x):\", x, exp(x))\n",
    "val = comp_exp(x)\n",
    "print(f\"ratio = {val/exp(x):18.16e}\")"
   ]
  },
  {
   "cell_type": "markdown",
   "id": "beab1b24",
   "metadata": {},
   "source": [
    "The answer is completely wrong this time! The oscillations within each term are causing instability. We can take the answer for <code>exp(20)</code> and just invert it since $\\frac{1}{e^{20}}=e^{-20}$."
   ]
  },
  {
   "cell_type": "code",
   "execution_count": 21,
   "id": "6c21e69e",
   "metadata": {},
   "outputs": [
    {
     "name": "stdout",
     "output_type": "stream",
     "text": [
      "1/val = 2.0611536224385570e-09; exp(-20)=2.0611536224385579e-09\n"
     ]
    }
   ],
   "source": [
    "x = 20\n",
    "val = comp_exp(x, doPrint=False)\n",
    "print(f\"1/val = {1/val:18.16e}; exp(-20)={exp(-20):18.16e}\")"
   ]
  },
  {
   "cell_type": "code",
   "execution_count": null,
   "id": "272a00b8",
   "metadata": {},
   "outputs": [],
   "source": []
  }
 ],
 "metadata": {
  "kernelspec": {
   "display_name": "Python 3 (ipykernel)",
   "language": "python",
   "name": "python3"
  },
  "language_info": {
   "codemirror_mode": {
    "name": "ipython",
    "version": 3
   },
   "file_extension": ".py",
   "mimetype": "text/x-python",
   "name": "python",
   "nbconvert_exporter": "python",
   "pygments_lexer": "ipython3",
   "version": "3.11.7"
  }
 },
 "nbformat": 4,
 "nbformat_minor": 5
}
