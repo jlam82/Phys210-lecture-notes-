{
 "cells": [
  {
   "cell_type": "markdown",
   "id": "70bae293",
   "metadata": {},
   "source": [
    "# <u>Chapter 4: Matrices</u>"
   ]
  },
  {
   "cell_type": "markdown",
   "id": "7f78aba3",
   "metadata": {},
   "source": [
    "Solving $\\textbf{A}\\vec{x}=\\vec{b}$:\n",
    "* First solve $\\textbf{L}\\vec{x}=\\vec{b}$, where $\\textbf{L}\\equiv\\text{lower triangular matrix}$. For $n=3$, <br><br>\n",
    "$$\\begin{bmatrix}\n",
    "    L_{00} & 0 & 0\\\\\n",
    "    L_{10} & L_{11} & 0\\\\\n",
    "    L_{20} & L_{21} & L_{22}\n",
    "\\end{bmatrix}\\begin{pmatrix}\n",
    "    x_0\\\\\n",
    "    x_1\\\\\n",
    "    x_2\n",
    "\\end{pmatrix}=\\begin{pmatrix}\n",
    "    b_0\\\\\n",
    "    b_1\\\\\n",
    "    b_2\n",
    "\\end{pmatrix}$$\n",
    "\n",
    "$$\\begin{array}{}\n",
    "    L_{00}x_0=b_0 & x_0=\\dfrac{b_0}{L_{00}}\\\\\n",
    "    L_{10}x_0+L_{11}x_1=b_1 & x_1=\\dfrac{b_1-L_{10}x_0}{L_{11}}\\\\\n",
    "    L_{20}x_{0}+L_{21}x_1+L_{22}x_2=b_2 & x_2=\\dfrac{b_2-L_{20}x_0-L_{21}x_1}{L_{22}}\n",
    "\\end{array}$$\n",
    "\n",
    "and so in general,\n",
    "    $$x_i=\\frac{b_i-\\sum_{j=0}^{i-1}L_{ij}x_j}{L_{ii}}\\text{ for }i=0,1,\\ldots,n-1$$ <br>\n",
    "this is called <b>forward substitution</b>. <br><br>\n",
    "    - In the case of $\\textbf{U}\\equiv$ upper triangular matrix, $\\textbf{U}\\vec{x}=\\vec{b}$. <br><br>\n",
    "    - For $n=3$,\n",
    "    $$\\begin{bmatrix}\n",
    "    U_{00} & U_{01} & U_{02}\\\\\n",
    "    0 & U_{11} & U_{12}\\\\\n",
    "    0 & 0 & U_{22}\\end{bmatrix}\n",
    "    \\begin{pmatrix}\n",
    "    x_0\\\\\n",
    "    x_1\\\\\n",
    "    x_2\\end{pmatrix}=\n",
    "    \\begin{pmatrix}\n",
    "    b_0\\\\\n",
    "    b_1\\\\\n",
    "    b_2\\end{pmatrix}$$ <br>\n",
    "$$\\begin{array}{}\n",
    "U_{00}x_0+U_{01}x_1+U_{02}x_2=b_0 & x_0=\\frac{b_0-U_{01}x_1-U_{02}x_2}{U_{00}}\\\\\n",
    "U_{11}x_1+U_{12}x_2=b_1 & x_1=\\frac{b_1-U_{12}x_2}{U_{11}}\\\\\n",
    "U_{22}x_2=b_2 & x_2=\\frac{b_2}{U_{22}}\n",
    "\\end{array}$$ <br>\n",
    "and so in general,\n",
    "$$x_i=\\frac{b_i-\\sum_{j=i+1}^{n-1}U_{ij}x_j}{U_{ii}}\\text{ for }i=n-1,n-2,\\ldots,1,0$$ <br>\n",
    "this is called <b>backward substitution</b>.\n",
    "> <b>(Excerpt) Code 4.1:</b> <code>triang.py</code>"
   ]
  },
  {
   "cell_type": "code",
   "execution_count": 10,
   "id": "ab5db3fd",
   "metadata": {},
   "outputs": [
    {
     "name": "stdout",
     "output_type": "stream",
     "text": [
      "Testing forward sub solution\n",
      "[[4.58257569 0.         0.         0.        ]\n",
      " [5.         5.09901951 0.         0.        ]\n",
      " [5.38516481 5.47722558 5.56776436 0.        ]\n",
      " [5.74456265 5.83095189 5.91607978 6.        ]]\n",
      "bs =  [24.45289367 25.67697243 26.90383729 28.13337297]\n",
      "(our solution - linalg.solve)/linalg.solve = \n",
      " [ 1.66448392e-16  1.41057642e-16 -1.22976849e-15  3.78841379e-15]\n",
      "\n",
      "Testing backward sub solution\n",
      "[[4.58257569 4.69041576 4.79583152 4.89897949]\n",
      " [0.         5.09901951 5.19615242 5.29150262]\n",
      " [0.         0.         5.56776436 5.65685425]\n",
      " [0.         0.         0.         6.        ]]\n",
      "bs =  [24.45289367 25.67697243 26.90383729 28.13337297]\n",
      "(our solution - linalg.solve)/linalg.solve = \n",
      " [-7.05904414e-15  9.26805702e-15 -4.68367865e-15  0.00000000e+00]\n"
     ]
    }
   ],
   "source": [
    "import numpy as np\n",
    "\n",
    "def forsub(L,bs):\n",
    "    n = bs.size\n",
    "    xs = np.zeros(n)\n",
    "    for i in range(n):\n",
    "        xs[i] = (bs[i] - L[i,:i]@xs[:i])/L[i,i]\n",
    "    return xs\n",
    "\n",
    "def backsub(U,bs):\n",
    "    n = bs.size\n",
    "    xs = np.zeros(n)\n",
    "    for i in reversed(range(n)):\n",
    "        xs[i] = (bs[i] - U[i,i+1:]@xs[i+1:])/U[i,i]\n",
    "    return xs\n",
    "\n",
    "def testcreate(n,val):\n",
    "    A = np.arange(val, val+n*n).reshape(n,n)\n",
    "    A = np.sqrt(A)\n",
    "    bs = (A[0,:])**2.1\n",
    "    return A, bs\n",
    "\n",
    "def testsolve(f,A,bs):\n",
    "    xs = f(A,bs)\n",
    "    exs = np.linalg.solve(A,bs)\n",
    "    print(\"(our solution - linalg.solve)/linalg.solve = \\n\",(xs-exs)/xs)\n",
    "\n",
    "print(\"Testing forward sub solution\")\n",
    "A, bs = testcreate(4,21)\n",
    "L = np.tril(A)\n",
    "print(L)\n",
    "print(\"bs = \",bs)\n",
    "testsolve(forsub,L,bs)\n",
    "\n",
    "print(\"\\nTesting backward sub solution\")\n",
    "U = np.triu(A)\n",
    "print(U)\n",
    "print(\"bs = \",bs)\n",
    "testsolve(backsub,U,bs)"
   ]
  },
  {
   "cell_type": "markdown",
   "id": "306bcdc4",
   "metadata": {},
   "source": [
    "* Gaussian Elimination: given a coefficient matrix representing a system of linear equations, the Gaussian Elimination is a sequence of operations performed to convert a coefficient matrix into an upper triangular matrix, known to be the matrix's row echelon form. <br><br>\n",
    "    - Solving $\\textbf{A}\\vec{x}=\\vec{b}$ with the Gaussian Elimination: <br><br>\n",
    "$\\underline{\\mathcal{Ex:}}$ Given the following system of equations, <br><br>\n",
    "$$\\begin{array}{}\n",
    "2x_0+x_1+x_2=8\\\\\n",
    "x_0+x_1-2x_2=-2\\\\\n",
    "5x_0+10x_1+5x_2=10\\end{array}\n",
    "\\Longrightarrow\\left(\\begin{array}{ccc|c}\n",
    "2 & 1 & 1 & 8\\\\\n",
    "1 & 1 & -2 & -2\\\\\n",
    "5 & 10 & 5 & 10\\end{array}\\right)$$ <br>\n",
    "Method: we will define a new row $i^\\prime\\equiv i-\\text{coeff}\\times j$, where $j$ represents another row in the matrix called the pivot row. <br><br>\n",
    "$$\\left(\\begin{array}{ccc|c}\n",
    "2 & 1 & 1 & 8\\\\\n",
    "1 & 1 & -2 & -2\\\\\n",
    "5 & 10 & 5 & 10\\end{array}\\right)\n",
    "\\xrightarrow{i_1^\\prime=i_1-\\frac{1}{2}j_0}\n",
    "\\left(\\begin{array}{ccc|c}\n",
    "2 & 1 & 1 & 8\\\\\n",
    "0 & \\frac{1}{2} & -2\\frac{1}{2} & -6\\\\\n",
    "5 & 10 & 5 & 10\\end{array}\\right)$$ <br>\n",
    "$$\\left(\\begin{array}{ccc|c}\n",
    "2 & 1 & 1 & 8\\\\\n",
    "0 & \\frac{1}{2} & -2\\frac{1}{2} & -6\\\\\n",
    "5 & 10 & 5 & 10\\end{array}\\right)\n",
    "\\xrightarrow{i_2^\\prime=i_2-\\frac{5}{2}j_0}\n",
    "\\left(\\begin{array}{ccc|c}\n",
    "2 & 1 & 1 & 8\\\\\n",
    "0 & \\frac{1}{2} & -2\\frac{1}{2} & -6\\\\\n",
    "0 & 7\\frac{1}{2} & 2\\frac{1}{2} & -10\\end{array}\\right)$$ <br>\n",
    "$$\\left(\\begin{array}{ccc|c}\n",
    "2 & 1 & 1 & 8\\\\\n",
    "0 & \\frac{1}{2} & -2\\frac{1}{2} & -6\\\\\n",
    "0 & 7\\frac{1}{2} & 2\\frac{1}{2} & -10\\end{array}\\right)\n",
    "\\xrightarrow{i_2^\\prime=i_2-15j_1}\n",
    "\\left(\\begin{array}{ccc|c}\n",
    "2 & 1 & 1 & 8\\\\\n",
    "0 & \\frac{1}{2} & -2\\frac{1}{2} & -6\\\\\n",
    "0 & 0 & 40 & 80\\end{array}\\right)$$ <br>\n",
    "And so, <br><br>\n",
    "$$\\begin{array}{}\n",
    "x_2=\\frac{80}{40} & x_1=\\frac{-6-(-2\\frac{1}{2})x_2}{\\frac{1}{2}} & x_0=\\frac{8-x_1-x_2}{2}\\end{array}$$ <br>\n",
    "Observe: $\\exists$ $n-2$ pivot rows, where $n$ represents the shape of the matrix (e.g., $j_0$ & $j_1$), and $\\forall$ $j$, every row below are iterated each via elimination. <br><br>\n",
    "$\\underline{\\mathcal{Ex:}}$ For $n=3\\Longrightarrow j=\\{j_0,j_1\\}$, <br><br>\n",
    "$$\\begin{array}{}\n",
    "\\underline{j_0\\text{:}} & \\underline{j_1\\text{:}}\\\\\n",
    "i_1^\\prime=i_1-\\text{coeff}\\times j_0 & i_2^\\prime=i_2-\\text{coeff}\\times j_1\\\\\n",
    "i_2^\\prime=i_2-\\text{coeff}\\times j_0 & \\;\n",
    "\\end{array}$$ <br>\n",
    "Furthermore, it may be observed that the coefficients of each elimination is the quotient of the first elements of the pivot row over the iterated row <u>after</u> leading zeroes, so more precisely:\n",
    "$$\\begin{array}{}\n",
    "\\underline{j_0\\text{:}} & \\underline{j_1\\text{:}}\\\\\n",
    "i_1^\\prime=i_1-\\frac{A_{10}}{A_{00}}j_0 & i_2^\\prime=i_2-\\frac{A_{21}}{A_{11}}j_1\\\\\n",
    "i_2^\\prime=i_2-\\frac{A_{20}}{A_{00}}j_0 & \\;\n",
    "\\end{array}$$\n",
    "And so in general, <br><br>\n",
    "$$\\text{coeff}=\\frac{A_{ij}}{A_{jj}}\\text{ for }\\begin{array}{}\n",
    "j=0,1,2,\\ldots,n-2\\\\\n",
    "i=j+1,j+2,\\ldots,n-1\\end{array}$$"
   ]
  },
  {
   "cell_type": "markdown",
   "id": "03e66d1f",
   "metadata": {},
   "source": [
    "> <b>(Excerpt) Code 4.2:</b> <code>gauelim.py</code>"
   ]
  },
  {
   "cell_type": "code",
   "execution_count": 11,
   "id": "0feb2f70",
   "metadata": {},
   "outputs": [
    {
     "name": "stdout",
     "output_type": "stream",
     "text": [
      "(our solution - linalg.solve)/linalg.solve = \n",
      " [-2.90829973e-09 -2.86313732e-09 -2.82428494e-09 -2.79126267e-09]\n"
     ]
    }
   ],
   "source": [
    "import numpy as np\n",
    "\n",
    "def gauelim(inA,inbs):\n",
    "    A = np.copy(inA)\n",
    "    bs = np.copy(inbs)\n",
    "    n = bs.size\n",
    "    \n",
    "    for j in range(n-1):\n",
    "        for i in range(j+1,n):\n",
    "            coeff = A[i,j]/A[j,j]\n",
    "            A[i,j:] -= coeff*A[j,j:]\n",
    "            bs[i] -= coeff*bs[j]\n",
    "            \n",
    "    xs = backsub(A,bs)\n",
    "    return xs\n",
    "\n",
    "A, bs = testcreate(4,21)\n",
    "testsolve(gauelim,A,bs)"
   ]
  },
  {
   "cell_type": "markdown",
   "id": "d0c4d3e5",
   "metadata": {},
   "source": [
    "* LU Decomposition: <br><br>\n",
    "    - We can decompose (with some caveats) a $n\\times n$ matrix $\\textbf{A}$ (i.e., a square matrix) into $\\textbf{A}=\\textbf{LU}$, where, <br><br> \n",
    "        * $\\textbf{L}\\equiv$ lower triangular matrix <br><br>\n",
    "        * $\\textbf{U}\\equiv$ upper triangular matrix <br><br>\n",
    "    - We will make the assumption that $\\textbf{L}$ is a unit lower triangular matrix (i.e., $1$'s along its principal diagonal)"
   ]
  },
  {
   "cell_type": "markdown",
   "id": "94a82b79",
   "metadata": {},
   "source": [
    "$\\underline{\\mathcal{Ex}:}$ Suppose $\\textbf{A}$ from solving $\\textbf{A}\\vec{x}=\\vec{b}$ during Gaussian Elimination, <br><br>\n",
    "$$\\textbf{A}=\\begin{bmatrix}\n",
    "2 & 1 & 1\\\\\n",
    "1 & 1 & -2\\\\\n",
    "5 & 10 & 5\\end{bmatrix}\n",
    "\\Longrightarrow\n",
    "\\textbf{U}=\\begin{bmatrix}\n",
    "2 & 1 & 1\\\\\n",
    "0 & \\frac{1}{2} & -2\\frac{1}{2}\\\\\n",
    "0 & 0 & 40\\end{bmatrix}$$ <br>\n",
    "Then $\\textbf{L}$ is a unit lower triangular matrix that contains the coefficients involved to solve each new row.\n",
    "$$\\textbf{L}=\\left(\\begin{array}{ccc|c}\n",
    "1 & 0 & 0 & j+1\\neq0\\\\\n",
    "\\frac{A_{10}}{A_{00}} & 1 & 0 & i_1^\\prime\\\\\n",
    "\\frac{A_{20}}{A_{00}} & \\frac{A_{21}}{A_{11}} & 1 & i_2^\\prime\n",
    "\\end{array}\\right)$$ <br>\n",
    "(note: an augmented matrix was shown to keep track of each row entries corresponding to each new row created via elimination) <br><br>\n",
    "So therefore,\n",
    "$$\\textbf{A}=\\textbf{LU}\\Longrightarrow\n",
    "\\begin{bmatrix}\n",
    "2 & 1 & 1\\\\\n",
    "1 & 1 & -2\\\\\n",
    "5 & 10 & 5\\end{bmatrix} = \n",
    "\\begin{bmatrix}\n",
    "2 & 1 & 1\\\\\n",
    "0 & \\frac{1}{2} & -2\\frac{1}{2}\\\\\n",
    "0 & 0 & 40\\end{bmatrix}\n",
    "\\begin{bmatrix}\n",
    "1 & 0 & 0\\\\\n",
    "\\frac{1}{2} & 1 & 0\\\\\n",
    "\\frac{5}{2} & 15 & 1\\end{bmatrix}$$"
   ]
  },
  {
   "cell_type": "markdown",
   "id": "a88e89a2",
   "metadata": {},
   "source": [
    "* Solving $\\textbf{A}\\vec{x}=\\vec{b}$ via LU decomposition: <br><br>\n",
    "    - Decompose $\\textbf{A}=\\textbf{LU}$, where $\\textbf{L}\\equiv$ lower triangular matrix and $\\textbf{U}\\equiv$ upper triangular matrix.\n",
    "    $$\\textbf{A}\\vec{x}=\\vec{b}\\Longrightarrow\\textbf{LU}\\vec{x}=\\vec{b}$$ <br>\n",
    "    - Let $\\textbf{U}\\vec{x}=\\vec{y}$:\n",
    "    $$\\textbf{LU}\\vec{x}=\\vec{b}\\Longrightarrow\\textbf{L}\\vec{y}=\\vec{b}$$ <br>\n",
    "    - We may then solve: <br><br>\n",
    "        * $\\vec{y}$ in $\\textbf{L}\\vec{y}=\\vec{b}$ via forward substitution. <br><br>\n",
    "        * $\\vec{x}$ in $\\textbf{U}\\vec{x}=\\vec{y}$ via backward substitution."
   ]
  },
  {
   "cell_type": "markdown",
   "id": "90a601e0",
   "metadata": {},
   "source": [
    "> <b>(Excerpt) Code 4.3</b> <code>ludec.py</code>"
   ]
  },
  {
   "cell_type": "code",
   "execution_count": 18,
   "id": "358fd547",
   "metadata": {},
   "outputs": [
    {
     "name": "stdout",
     "output_type": "stream",
     "text": [
      "(our solution - linalg.solve)/linalg.solve = \n",
      " [-2.90821111e-09 -2.86304959e-09 -2.82419811e-09 -2.79117672e-09]\n"
     ]
    }
   ],
   "source": [
    "import numpy as np\n",
    "\n",
    "def ludec(A):\n",
    "    n = A.shape[0]\n",
    "    U = np.copy(A)\n",
    "    L = np.identity(n)\n",
    "    \n",
    "    for j in range(n-1):\n",
    "        for i in range(j+1,n):\n",
    "            coeff = U[i,j]/U[j,j]\n",
    "            U[i,j:] -= coeff*U[j,j:]\n",
    "            L[i,j] = coeff\n",
    "    return L, U\n",
    "\n",
    "def lusolve(A,bs):\n",
    "    L, U = ludec(A)\n",
    "    ys = forsub(L,bs)\n",
    "    xs = backsub(U,ys)\n",
    "    return xs\n",
    "\n",
    "if __name__ == '__main__':\n",
    "    A, bs = testcreate(4,21)\n",
    "    testsolve(lusolve,A,bs)"
   ]
  },
  {
   "cell_type": "code",
   "execution_count": 22,
   "id": "57de16b5",
   "metadata": {},
   "outputs": [
    {
     "data": {
      "text/plain": [
       "(50,)"
      ]
     },
     "execution_count": 22,
     "metadata": {},
     "output_type": "execute_result"
    }
   ],
   "source": [
    "c = 2\n",
    "k = 20\n",
    "w = 3\n",
    "temp = []\n",
    "temp.append(k-1*w**2)\n",
    "temp.append(-k)\n",
    "for j in range(0, 50-2):\n",
    "    temp.append(0.)\n",
    "np.array(temp, []).shape"
   ]
  },
  {
   "cell_type": "code",
   "execution_count": null,
   "id": "627d33ca",
   "metadata": {},
   "outputs": [],
   "source": []
  }
 ],
 "metadata": {
  "kernelspec": {
   "display_name": "Python 3 (ipykernel)",
   "language": "python",
   "name": "python3"
  },
  "language_info": {
   "codemirror_mode": {
    "name": "ipython",
    "version": 3
   },
   "file_extension": ".py",
   "mimetype": "text/x-python",
   "name": "python",
   "nbconvert_exporter": "python",
   "pygments_lexer": "ipython3",
   "version": "3.11.7"
  }
 },
 "nbformat": 4,
 "nbformat_minor": 5
}
