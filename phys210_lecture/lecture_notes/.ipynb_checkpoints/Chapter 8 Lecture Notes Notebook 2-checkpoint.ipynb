{
 "cells": [
  {
   "cell_type": "markdown",
   "id": "86199210",
   "metadata": {},
   "source": [
    "##### <u>Partial Differential Equations (PDE):</u>\n",
    "Our dependent variable $\\phi$ depends on more than one independent varaiables $(x,y)$. <br><br>\n",
    "$\\underline{\\mathcal{Ex:}}$ <i>Poisson's equation</i> in two dimension: <br><br>\n",
    "$$\\frac{\\partial^2\\phi}{\\partial x^2}+\\frac{\\partial^2\\phi}{\\partial y^2}=f(x,y)$$\n",
    "$\\underline{\\mathcal{Ex:}}$ Wave equation for $c>0$: <br><br>\n",
    "$$\\frac{\\partial^2\\phi}{\\partial t^2}-c^2\\frac{\\partial^2\\phi}{\\partial x^2}=0$$\n",
    "\n",
    "diffusion for $\\alpha>0$\n",
    "$$\\frac{\\partial\\phi}{\\partial t}-\\alpha=0$$\n",
    "\n",
    "Schrodinger \n",
    "$$i\\hbar\\frac{}{}$$V(x,t)\n",
    "\n",
    "Poisson\n",
    "\n",
    "First 3 e.g. involves time evolution from starting point (IVP)"
   ]
  },
  {
   "cell_type": "markdown",
   "id": "39e042b5",
   "metadata": {},
   "source": [
    "$$\\begin{bmatrix}\n",
    "    1 & 0 & 0"
   ]
  },
  {
   "cell_type": "code",
   "execution_count": null,
   "id": "1079ac81",
   "metadata": {},
   "outputs": [],
   "source": [
    "def ftcs(fac, m, polds):\n",
    "    pnews = np.copy(polds)\n",
    "    for k in range(m-1):\n",
    "        pnews[1:-1] = fac*(polds[:-2] + polds[2:]) + (1. - 2*fac)*polds[1:-1]\n",
    "        polds = np.copy(pnews)\n",
    "        return pnews\n",
    "    \n",
    "def btcs(fcs, m, polds):\n",
    "    n = polds.size\n",
    "    A = np.zeros( (n,n) )\n",
    "    np.fill_diaganol(A,1.+2*fac)\n",
    "    A[-1]"
   ]
  },
  {
   "cell_type": "code",
   "execution_count": null,
   "id": "3dc40e9a",
   "metadata": {},
   "outputs": [],
   "source": [
    "Static Poisson (BVP)\n",
    "\n",
    "Diffusion Exampl equation\n",
    "$\\alpha$ is the diffusion coefficient, same as heat equation\n",
    "$\\phi=\\phi(x,t)$\n",
    "\n",
    "Discretize\n",
    "xj=j L/n-1 j=0,1,...,n-1 j is space index\n",
    "tk=k T/m-1 k=0,1,...,m-1 k is time index\n",
    "\n",
    "$\\phi(x,t)\\Longrightarrow\\phi_{j,k}\n",
    "\n",
    "x spacing $h_x=L/n-1$\n",
    "t spacing $h_t=T/m-1$\n",
    "\n",
    "del phi/ del t => forward differene\n",
    "\n",
    "del2 phi /del x2 => central diffence to "
   ]
  }
 ],
 "metadata": {
  "kernelspec": {
   "display_name": "Python 3 (ipykernel)",
   "language": "python",
   "name": "python3"
  },
  "language_info": {
   "codemirror_mode": {
    "name": "ipython",
    "version": 3
   },
   "file_extension": ".py",
   "mimetype": "text/x-python",
   "name": "python",
   "nbconvert_exporter": "python",
   "pygments_lexer": "ipython3",
   "version": "3.9.13"
  }
 },
 "nbformat": 4,
 "nbformat_minor": 5
}
